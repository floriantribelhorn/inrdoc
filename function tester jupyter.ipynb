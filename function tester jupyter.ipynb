{
 "cells": [
  {
   "cell_type": "code",
   "execution_count": 4,
   "metadata": {},
   "outputs": [
    {
     "name": "stdout",
     "output_type": "stream",
     "text": [
      "   quick       datum\n",
      "8     78  2023-02-08\n",
      "7     65  2023-03-23\n",
      "9     45  2024-01-17\n",
      "10    77  2024-01-31\n",
      "11    89  2024-02-29\n",
      "0    100  2024-03-01\n",
      "1    100  2024-03-02\n",
      "2    100  2024-03-03\n",
      "6     25  2024-03-03\n",
      "3    100  2024-03-04\n",
      "4    100  2024-03-05\n",
      "5    100  2024-03-06\n",
      "12    44  2024-03-31\n"
     ]
    }
   ],
   "source": [
    "from datetime import datetime\n",
    "import streamlit as st\n",
    "import sqlite3 as sql\n",
    "import pandas as pd\n",
    "\n",
    "conn = sql.connect(\"quick_data.db\")\n",
    "tablename = 'quick_data_from_abc'\n",
    "sql_query = f\"\"\"\n",
    "SELECT * FROM {tablename}\n",
    "\"\"\"\n",
    "\n",
    "df = pd.read_sql(sql_query, conn)\n",
    "df = df.drop(columns=['id','user'])\n",
    "df = df.sort_values('quick')\n",
    "df = df.sort_values('datum',ascending=True)\n",
    "print(df)\n",
    "\n",
    "conn.commit()\n",
    "conn.close()"
   ]
  }
 ],
 "metadata": {
  "kernelspec": {
   "display_name": "base",
   "language": "python",
   "name": "python3"
  },
  "language_info": {
   "codemirror_mode": {
    "name": "ipython",
    "version": 3
   },
   "file_extension": ".py",
   "mimetype": "text/x-python",
   "name": "python",
   "nbconvert_exporter": "python",
   "pygments_lexer": "ipython3",
   "version": "3.11.5"
  }
 },
 "nbformat": 4,
 "nbformat_minor": 2
}
